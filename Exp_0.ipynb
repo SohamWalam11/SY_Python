{
 "cells": [
  {
   "cell_type": "code",
   "execution_count": null,
   "metadata": {},
   "outputs": [],
   "source": [
    "# Exp0_1 - To determine data type of input\n",
    "a = input(\"Enter anything to determine data type: \")\n",
    "print(type(a))\n"
   ]
  },
  {
   "cell_type": "code",
   "execution_count": null,
   "metadata": {},
   "outputs": [],
   "source": [
    "# Exp0_2 - Write a program to perform arithmetic operations on two user-input numbers.\n",
    "a = int(input(\"Enter first number: \"))\n",
    "b = int(input(\"Enter second number: \"))\n",
    "ch = input(\"Enter operation: \")\n",
    "\n",
    "if (ch=='+'):\n",
    "    print(\"Addition is: \",(a+b))\n",
    "elif(ch=='-'):\n",
    "    print(\"Subtraction is: \",(a-b))\n",
    "elif(ch=='*'):\n",
    "    print(\"Multiplication is: \",(a*b))\n",
    "else:\n",
    "    print(\"Division is: \",(a/b))\n"
   ]
  },
  {
   "cell_type": "code",
   "execution_count": null,
   "metadata": {},
   "outputs": [],
   "source": [
    "#Exp0_3 - Create a program that uses all comparison operators and prints the results for two user-input numbers.\n",
    "a =input(\"Enter first number: \")\n",
    "b =input(\"Enter second number: \")\n",
    "\n",
    "if (a>=b):\n",
    "    print(a+' is greater than '+b)\n",
    "elif(a<=b):\n",
    "    print(a+' is lesser than '+b)\n",
    "else:\n",
    "    print(a+' is equal to '+b)\n"
   ]
  },
  {
   "cell_type": "code",
   "execution_count": null,
   "metadata": {},
   "outputs": [],
   "source": [
    "# Exp0_4 - Write a program that takes three user-input numbers and calculates their average.\n",
    "a = int(input(\"Enter first number: \"))\n",
    "b = int(input(\"Enter second number: \"))\n",
    "c = int(input(\"Enter third number: \"))\n",
    "sum = a+b+c\n",
    "print(\"Average is: \"+str(sum/3))"
   ]
  },
  {
   "cell_type": "code",
   "execution_count": null,
   "metadata": {},
   "outputs": [
    {
     "ename": "",
     "evalue": "",
     "output_type": "error",
     "traceback": [
      "\u001b[1;31mRunning cells with 'Python 3.11.9' requires the ipykernel package.\n",
      "\u001b[1;31mRun the following command to install 'ipykernel' into the Python environment. \n",
      "\u001b[1;31mCommand: '\"c:/Users/Soham Kishor Walam/AppData/Local/Microsoft/WindowsApps/python3.11.exe\" -m pip install ipykernel -U --user --force-reinstall'"
     ]
    }
   ],
   "source": [
    "# Exp0_5 - Write a program that takes the principal amount, rate of interest, and time period from the user and calculates the simple interest. \n",
    "Princi = int(input(\"Enter principal amount: \"))\n",
    "ROI = float(input(\"Enter Rate of interest: \"))\n",
    "Period = int(input(\"Enter number of years: \"))\n",
    "\n",
    "SI = Princi*ROI*Period\n",
    "\n",
    "print(\"Simple Interest is: \"+str(SI/100))"
   ]
  }
 ],
 "metadata": {
  "kernelspec": {
   "display_name": "Python 3",
   "language": "python",
   "name": "python3"
  },
  "language_info": {
   "name": "python",
   "version": "3.11.9"
  }
 },
 "nbformat": 4,
 "nbformat_minor": 2
}
