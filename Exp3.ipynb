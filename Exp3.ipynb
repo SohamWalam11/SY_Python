{
 "cells": [
  {
   "cell_type": "code",
   "execution_count": 2,
   "metadata": {},
   "outputs": [
    {
     "name": "stdout",
     "output_type": "stream",
     "text": [
      "10\n",
      "20\n",
      "[0, 1, 2]\n",
      "4\n",
      "[[0, 1, 2], 'Soham', [4, 5, 6], 'Hello']\n",
      "['crazy', [0, 1, 2], 'Soham', [4, 5, 6], 'Hello']\n",
      "['crazy', [0, 1, 2], 'Soham', [4, 5, 6], 'Hello', 10, 20, 30]\n"
     ]
    }
   ],
   "source": [
    "# LIST BASICS\n",
    "# declaring a list\n",
    "list=[10,10,20,20]\n",
    "\n",
    "# to print items\n",
    "print(list[1])\n",
    "# prints indexed 1st item of the list.\n",
    "\n",
    "# negative indexing\n",
    "print(list[-2])\n",
    "\n",
    "# Acessing elements of Multi-Dimen set\n",
    "list_1 = [[0,1,2],'Soham',[4,5,6]]\n",
    "list_2 = [10,20,30]\n",
    "\n",
    "# print indexed 0 list\n",
    "print(list_1[0])\n",
    "\n",
    "# print 4\n",
    "print(list_1[2][0])\n",
    "\n",
    "# Methods of List \n",
    "''' 1)Append\n",
    "    2)Insert\n",
    "    3) Extend'''\n",
    "\n",
    "# 1)\n",
    "list_1.append(\"Hello\")\n",
    "print(list_1)\n",
    "\n",
    "# 2) \n",
    "list_1.insert(0,'crazy')\n",
    "print(list_1)\n",
    "\n",
    "# 3) \n",
    "list_1.extend(list_2)\n",
    "print(list_1)\n",
    "\n",
    "# INPUT METHOD:\n",
    "\n",
    "car = int(input(\"ENter Number of range: \"))\n",
    "for i in range(car):\n",
    "    x = input(\"ENter something: \")\n",
    "    list_2.append(x)\n",
    "print(list_2)\n",
    "\n",
    "# insert\n",
    "list_2.insert(0,'Good')\n",
    "print(list_2)\n",
    "\n",
    "# pop\n",
    "list_2.pop()\n",
    "print(list_2)\n",
    "\n",
    "# delete\n",
    "del list_2[2]\n",
    "print(list_2)\n",
    "\n",
    "# remove\n",
    "list_2.remove('Good')\n",
    "print(list_2)"
   ]
  },
  {
   "cell_type": "code",
   "execution_count": null,
   "metadata": {},
   "outputs": [
    {
     "name": "stdout",
     "output_type": "stream",
     "text": [
      "30\n"
     ]
    }
   ],
   "source": [
    "# Exp3_1\n",
    "list_1 = [1,2,3,4,5,6,7,8,9,10]\n",
    "sum=0\n",
    "for i in list_1:\n",
    "    if(i%2==0):\n",
    "        sum+=i\n",
    "\n",
    "print(sum)"
   ]
  },
  {
   "cell_type": "code",
   "execution_count": 1,
   "metadata": {},
   "outputs": [
    {
     "name": "stdout",
     "output_type": "stream",
     "text": [
      "[10, 20, 30, 40, 50]\n",
      "[30, 40, 50]\n"
     ]
    }
   ],
   "source": [
    "# Exp3_2\n",
    "tuple_1 = (10,20,30,40,50)\n",
    "list_1 = list(tuple_1)\n",
    "print(list_1)\n",
    "print(list_1[2:5:])"
   ]
  },
  {
   "cell_type": "code",
   "execution_count": 3,
   "metadata": {},
   "outputs": [
    {
     "name": "stdout",
     "output_type": "stream",
     "text": [
      "{4, 5}\n"
     ]
    }
   ],
   "source": [
    "# Exp3_3\n",
    "set_1 = {1,2,3,4,5}\n",
    "set_2 = {4,5,6,7}\n",
    "\n",
    "main_set = set_1.intersection(set_2)\n",
    "print(main_set)"
   ]
  },
  {
   "cell_type": "code",
   "execution_count": 5,
   "metadata": {},
   "outputs": [
    {
     "name": "stdout",
     "output_type": "stream",
     "text": [
      "{'a': '1', 'b': '10', 'c': '3'}\n"
     ]
    }
   ],
   "source": [
    "# Exp3_4\n",
    "dict_1 = {'a':'1','b':'2','c':'3'}\n",
    "dict_2 = {'b':'10'}\n",
    "dict_1.update(dict_2)\n",
    "print(dict_1)\n"
   ]
  },
  {
   "cell_type": "code",
   "execution_count": 8,
   "metadata": {},
   "outputs": [
    {
     "name": "stdout",
     "output_type": "stream",
     "text": [
      "[1, 4, 9, 16, 25]\n"
     ]
    }
   ],
   "source": [
    "# Exp3_5\n",
    "numbers = [1,2,3,4,5] \n",
    "squared = [x*x for x in numbers] \n",
    "print(squared)\n"
   ]
  },
  {
   "cell_type": "code",
   "execution_count": 10,
   "metadata": {},
   "outputs": [
    {
     "name": "stdout",
     "output_type": "stream",
     "text": [
      "False\n",
      "False\n",
      "False\n"
     ]
    }
   ],
   "source": [
    "# Exp3_6\n",
    "tuple_1 = ('cat','dog','bird')\n",
    "list_1 = list(tuple_1)\n",
    "\n",
    "for i in list_1:\n",
    "    if 'Dog' in list_1:\n",
    "        print('True')\n",
    "    else:\n",
    "        print('False')"
   ]
  },
  {
   "cell_type": "code",
   "execution_count": 12,
   "metadata": {},
   "outputs": [
    {
     "name": "stdout",
     "output_type": "stream",
     "text": [
      "{1, 2, 3, 5, 8, 13}\n",
      "6\n"
     ]
    }
   ],
   "source": [
    "# Exp3_7\n",
    "list = [1, 1, 2, 3, 5, 8, 13]\n",
    "set_1 = set(list)\n",
    "print(set_1)\n",
    "print(len(set_1))"
   ]
  },
  {
   "cell_type": "code",
   "execution_count": 3,
   "metadata": {},
   "outputs": [
    {
     "name": "stdout",
     "output_type": "stream",
     "text": [
      "{'A': [1, 2], 'B': [5, 6], 'C': [7, 8]}\n"
     ]
    }
   ],
   "source": [
    "# Exp3_8\n",
    "dict_1 = {'A': [1, 2], 'B': [3, 4]} \n",
    "dict_2 = {'B': [5, 6], 'C': [7, 8]}\n",
    "\n",
    "dict_1.update(dict_2)\n",
    "print(dict_1)"
   ]
  },
  {
   "cell_type": "code",
   "execution_count": 12,
   "metadata": {},
   "outputs": [
    {
     "name": "stdout",
     "output_type": "stream",
     "text": [
      "{3: 3, 5: 2, 7: 1, 9: 1}\n"
     ]
    }
   ],
   "source": [
    "# Exp3_9\n",
    "list = [3, 5, 7, 3, 5, 9, 3]\n",
    "elem_freq = {}\n",
    "\n",
    "for elem in list:\n",
    "  if elem in elem_freq:\n",
    "    elem_freq[elem] += 1\n",
    "  else:\n",
    "    elem_freq[elem] = 1\n",
    "\n",
    "print(elem_freq)\n",
    "\n"
   ]
  },
  {
   "cell_type": "code",
   "execution_count": 5,
   "metadata": {},
   "outputs": [
    {
     "name": "stdout",
     "output_type": "stream",
     "text": [
      "maximum value in tuple is:  5\n",
      "minimum valu in tuple is:  1\n"
     ]
    }
   ],
   "source": [
    "# Exp3_10\n",
    "tuple_1 = (1, 2, 3, 4, 5) \n",
    "max_1 = max(tuple_1)\n",
    "min_1 = min(tuple_1)\n",
    "print(\"maximum value in tuple is: \",max_1)\n",
    "print(\"minimum valu in tuple is: \",min_1)"
   ]
  },
  {
   "cell_type": "code",
   "execution_count": null,
   "metadata": {},
   "outputs": [],
   "source": [
    "# Exp3_11\n"
   ]
  },
  {
   "cell_type": "code",
   "execution_count": 6,
   "metadata": {},
   "outputs": [
    {
     "name": "stdout",
     "output_type": "stream",
     "text": [
      "dict_values(['1700', '1200', '1300'])\n"
     ]
    }
   ],
   "source": [
    "#Exp3_12\n",
    "sales_dict_1 = {'Fridges':'1700','TV':'1200','Washing Machine':'1300'}\n",
    "values_1 = sales_dict_1.values()\n",
    "print(values_1)"
   ]
  },
  {
   "cell_type": "code",
   "execution_count": 7,
   "metadata": {},
   "outputs": [
    {
     "name": "stdout",
     "output_type": "stream",
     "text": [
      "Maximum temperature is:  32\n",
      "Minimum temperature is:  19\n"
     ]
    }
   ],
   "source": [
    "# Exp3_13\n",
    "temperatures=[22, 25, 19, 30, 28, 32, 26]\n",
    "temp_1 = tuple(temperatures)\n",
    "max_temp = max(temp_1)\n",
    "min_temp = min(temp_1)\n",
    "print(\"Maximum temperature is: \",max_temp)\n",
    "print(\"Minimum temperature is: \",min_temp)"
   ]
  },
  {
   "cell_type": "code",
   "execution_count": 11,
   "metadata": {},
   "outputs": [
    {
     "name": "stdout",
     "output_type": "stream",
     "text": [
      "{90: 'Alice', 85: 'Bob', 88: 'Charlie'}\n",
      "dict_values(['Alice', 'Bob', 'Charlie'])\n",
      "(90, 85, 88)\n"
     ]
    }
   ],
   "source": [
    "# Exp3_14\n",
    "scores_1 = [(90, 'Alice'), (85, 'Bob'), (88, 'Charlie')]\n",
    "scores_2 = dict(scores_1)\n",
    "print(scores_2)\n",
    "print(scores_2.values())\n",
    "max_val = tuple(scores_2)\n",
    "print(max_val)"
   ]
  },
  {
   "cell_type": "code",
   "execution_count": 18,
   "metadata": {},
   "outputs": [
    {
     "name": "stdout",
     "output_type": "stream",
     "text": [
      "[1, 4, 9, 16, 25, 36, 49, 64, 81, 100]\n"
     ]
    }
   ],
   "source": [
    "# Exp3_16\n",
    "list_1 = [1,2,3,4,5,6,7,8,9,10]\n",
    "for i in range(1,11):\n",
    "    squared = [i*i for i in list_1] \n",
    "print(squared)"
   ]
  },
  {
   "cell_type": "code",
   "execution_count": 16,
   "metadata": {},
   "outputs": [
    {
     "name": "stdout",
     "output_type": "stream",
     "text": [
      "Sum of elements in list are:  30\n"
     ]
    }
   ],
   "source": [
    "# Exp3_15\n",
    "sum=0\n",
    "list_1 = [2,4,6,8,10]\n",
    "\n",
    "for ele in range(0,len(list_1)):\n",
    "    sum = sum+list_1[ele]\n",
    "\n",
    "print(\"Sum of elements in list are: \",sum)\n",
    "\n"
   ]
  },
  {
   "cell_type": "code",
   "execution_count": null,
   "metadata": {},
   "outputs": [],
   "source": [
    "# Exp3_17\n",
    "for i in range(1,51):\n",
    "    if(i%3==0 and i%5==0):\n",
    "        print(\"FizzBuzz\")\n",
    "    elif(i%5==0):\n",
    "        print(\"Buzz\")\n",
    "    elif(i%3==0):\n",
    "        print(\"Fizz\")\n",
    "    else:\n",
    "        print(i)"
   ]
  },
  {
   "cell_type": "code",
   "execution_count": 22,
   "metadata": {},
   "outputs": [
    {
     "name": "stdout",
     "output_type": "stream",
     "text": [
      "[90]\n"
     ]
    }
   ],
   "source": [
    "# Exp3_18\n",
    "for i in range(1,100):\n",
    "    if(i%2==0 and i%5==0):\n",
    "        val_1 = list[i]\n",
    "\n",
    "print(val_1)"
   ]
  }
 ],
 "metadata": {
  "kernelspec": {
   "display_name": ".venv",
   "language": "python",
   "name": "python3"
  },
  "language_info": {
   "codemirror_mode": {
    "name": "ipython",
    "version": 3
   },
   "file_extension": ".py",
   "mimetype": "text/x-python",
   "name": "python",
   "nbconvert_exporter": "python",
   "pygments_lexer": "ipython3",
   "version": "3.12.4"
  }
 },
 "nbformat": 4,
 "nbformat_minor": 2
}
