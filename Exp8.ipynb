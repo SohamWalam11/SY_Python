{
 "cells": [
  {
   "cell_type": "code",
   "execution_count": 5,
   "id": "0fde8b57-e775-4275-a5cf-0a2907666ca6",
   "metadata": {},
   "outputs": [
    {
     "name": "stdout",
     "output_type": "stream",
     "text": [
      "Mean: 9.0\n"
     ]
    }
   ],
   "source": [
    "# exp8_1\n",
    "import numpy as np\n",
    "data = np.array([3,6,9,12,15])\n",
    "mean_1=np.mean(data)\n",
    "print(f\"Mean: {mean_1}\")"
   ]
  },
  {
   "cell_type": "code",
   "execution_count": 7,
   "id": "64af362d-5e42-4c8a-b14e-3e7971866e4f",
   "metadata": {},
   "outputs": [
    {
     "name": "stdout",
     "output_type": "stream",
     "text": [
      "Median: 5.0\n"
     ]
    }
   ],
   "source": [
    "# exp8_2\n",
    "import numpy as np\n",
    "data_1= np.array([7,3,9,1,5])\n",
    "median_1 = np.median(data_1)\n",
    "print(f\"Median: {median_1}\")\n"
   ]
  },
  {
   "cell_type": "code",
   "execution_count": 11,
   "id": "12aaf3af-cb13-43f2-95cc-ff28ceb6b3bb",
   "metadata": {},
   "outputs": [
    {
     "name": "stdout",
     "output_type": "stream",
     "text": [
      "Mode: ModeResult(mode=4, count=3)\n"
     ]
    }
   ],
   "source": [
    "# exp8_3\n",
    "import numpy as np\n",
    "from scipy import stats as st\n",
    "data_1= np.array([4,1,2,2,3,4,4])\n",
    "mode_1 = st.mode(data_1)\n",
    "print(f\"Mode: {mode_1}\")\n"
   ]
  },
  {
   "cell_type": "code",
   "execution_count": 9,
   "id": "720e7fd1-65ff-436e-8f6c-a8219e73c4d5",
   "metadata": {},
   "outputs": [
    {
     "name": "stdout",
     "output_type": "stream",
     "text": [
      "Variance: 4.0\n"
     ]
    }
   ],
   "source": [
    "# exp8_4\n",
    "import numpy as np\n",
    "ex_1= np.array([2,4,4,4,5,5,7,9])\n",
    "var_1 = np.var(ex_1)\n",
    "print(f\"Variance: {var_1}\")"
   ]
  },
  {
   "cell_type": "code",
   "execution_count": 22,
   "id": "3f573b13-8375-4aaf-a585-e1f2e0d186b6",
   "metadata": {},
   "outputs": [
    {
     "name": "stdout",
     "output_type": "stream",
     "text": [
      "Standard deviation: 4.898979485566356\n"
     ]
    }
   ],
   "source": [
    "# exp8_5\n",
    "import numpy as np\n",
    "a=np.array([10,12,23,23,16,23,21,16])\n",
    "std_1 = np.std(a)\n",
    "print(f\"Standard deviation: {std_1}\")"
   ]
  },
  {
   "cell_type": "code",
   "execution_count": 24,
   "id": "a8f1a878-0508-4da2-aa5f-d8379bc8a6b3",
   "metadata": {},
   "outputs": [
    {
     "name": "stdout",
     "output_type": "stream",
     "text": [
      "Range is: 18\n"
     ]
    }
   ],
   "source": [
    "# exp8_6\n",
    "import numpy as np\n",
    "arr1 = np.array([3,7,8,5,12,14,21,13,18])\n",
    "range_1 = np.max(arr1)-np.min(arr1)\n",
    "print(f\"Range is: {range_1}\")"
   ]
  },
  {
   "cell_type": "code",
   "execution_count": 25,
   "id": "26a8bd8b-92b4-49ed-a6ad-e80b966ad160",
   "metadata": {},
   "outputs": [
    {
     "name": "stdout",
     "output_type": "stream",
     "text": [
      "coefficient of Pearson's:  1.0\n",
      "5\n",
      "15\n",
      "55\n"
     ]
    }
   ],
   "source": [
    "# exp8_7\n",
    "import numpy as np\n",
    "arr1=np.array([1,2,3,4,5])\n",
    "arr2=np.array([2,4,6,8,10])\n",
    "\n",
    "n=len(arr1)\n",
    "sum_arr1 = np.sum(arr1)\n",
    "sum_arr2 = np.sum(arr2)\n",
    "sum_ar1_ar2 = np.sum(arr1*arr2)\n",
    "sum_arr1_sq = np.sum(arr1**2)\n",
    "sum_arr2_sq = np.sum(arr2**2)\n",
    "\n",
    "num = n*sum_ar1_ar2-sum_arr1*sum_arr2\n",
    "deno = np.sqrt((n*sum_arr1_sq - sum_arr1**2)*(n*sum_arr2_sq - sum_arr2**2))\n",
    "coeff = num/deno\n",
    "print(\"coefficient of Pearson's: \",coeff)\n",
    "print(n)\n",
    "print(sum_arr1)\n",
    "print(sum_arr1_sq)\n"
   ]
  },
  {
   "cell_type": "code",
   "execution_count": 7,
   "id": "6678335d-a9ce-4f35-8f76-5b541ee1a4e2",
   "metadata": {},
   "outputs": [
    {
     "name": "stdout",
     "output_type": "stream",
     "text": [
      "[0. 0. 0. 0. 0. 0. 0. 0. 0. 0. 0. 0. 0. 0. 0. 0. 0. 0. 0. 0.]\n"
     ]
    }
   ],
   "source": [
    "# exp8_8\n",
    "import numpy as np\n",
    "print(np.zeros(20))"
   ]
  },
  {
   "cell_type": "code",
   "execution_count": 19,
   "id": "8bd77d5f-06aa-4b93-a239-2d2e0a4fa27d",
   "metadata": {},
   "outputs": [
    {
     "name": "stdout",
     "output_type": "stream",
     "text": [
      "[[1. 0. 0. 0.]\n",
      " [0. 1. 0. 0.]\n",
      " [0. 0. 1. 0.]\n",
      " [0. 0. 0. 1.]]\n"
     ]
    }
   ],
   "source": [
    "# exp8_9\n",
    "import numpy as np\n",
    "a = np.identity(4)\n",
    "print(a)"
   ]
  },
  {
   "cell_type": "code",
   "execution_count": 21,
   "id": "822b7b53-d6bc-43a7-9596-3483638089db",
   "metadata": {},
   "outputs": [
    {
     "name": "stdout",
     "output_type": "stream",
     "text": [
      "32\n"
     ]
    }
   ],
   "source": [
    "# exp8_10\n",
    "import numpy as np\n",
    "arr1=np.array([1,2,3])\n",
    "arr2=np.array([4,5,6])\n",
    "dot_1 = np.dot(arr1,arr2)\n",
    "print(dot_1)"
   ]
  },
  {
   "cell_type": "code",
   "execution_count": 23,
   "id": "c3acf45d-fcb5-4118-b406-fea6989a4240",
   "metadata": {},
   "outputs": [
    {
     "name": "stdout",
     "output_type": "stream",
     "text": [
      "[[ 1  2  3  4]\n",
      " [ 5  6  7  8]\n",
      " [ 9 10 11 12]]\n"
     ]
    }
   ],
   "source": [
    "# exp8_11\n",
    "import numpy as np\n",
    "arr1=np.array([1,2,3,4,5,6,7,8,9,10,11,12])\n",
    "reshape_1 = arr1.reshape(3,4)\n",
    "print(reshape_1)"
   ]
  },
  {
   "cell_type": "code",
   "execution_count": null,
   "id": "1b5932b2-a35a-4a0f-a6c7-9e18121e0e30",
   "metadata": {},
   "outputs": [],
   "source": [
    "\n"
   ]
  }
 ],
 "metadata": {
  "kernelspec": {
   "display_name": "Python 3 (ipykernel)",
   "language": "python",
   "name": "python3"
  },
  "language_info": {
   "codemirror_mode": {
    "name": "ipython",
    "version": 3
   },
   "file_extension": ".py",
   "mimetype": "text/x-python",
   "name": "python",
   "nbconvert_exporter": "python",
   "pygments_lexer": "ipython3",
   "version": "3.12.4"
  }
 },
 "nbformat": 4,
 "nbformat_minor": 5
}
