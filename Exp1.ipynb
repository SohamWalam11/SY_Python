{
 "cells": [
  {
   "cell_type": "code",
   "execution_count": 1,
   "metadata": {},
   "outputs": [
    {
     "name": "stdout",
     "output_type": "stream",
     "text": [
      "1 is equal to 1\n"
     ]
    }
   ],
   "source": [
    "# Exp1_1 - WAP to demonstrate the if,elif,else loop\n",
    "a = input(\"Enter first number: \")\n",
    "b = input(\"Enter second number: \")\n",
    "if (a>b):\n",
    "    print(a+\" is greater than \"+b)\n",
    "elif(a<b):\n",
    "    print(b+' is greater than '+a)\n",
    "else:\n",
    "    print(a+' is equal to '+b)"
   ]
  },
  {
   "cell_type": "code",
   "execution_count": 2,
   "metadata": {},
   "outputs": [
    {
     "name": "stdout",
     "output_type": "stream",
     "text": [
      "1\n",
      "2\n",
      "3\n",
      "4\n"
     ]
    }
   ],
   "source": [
    "# Exp1_2 - WAP to demonstrate the for loop\n",
    "\n",
    "# using the range function\n",
    "for i in range(1,5):\n",
    "    print(i)"
   ]
  },
  {
   "cell_type": "code",
   "execution_count": 3,
   "metadata": {},
   "outputs": [
    {
     "name": "stdout",
     "output_type": "stream",
     "text": [
      "*****\n",
      "****\n",
      "***\n",
      "**\n",
      "*\n"
     ]
    }
   ],
   "source": [
    "# Exp1_3 - downward triangle star pattern\n",
    "n = 5\n",
    "\n",
    "for i in range(n):\n",
    "    # internal loop run for n - i times\n",
    "    for j in range(n - i):\n",
    "        print('*', end='')\n",
    "    print()\n"
   ]
  },
  {
   "cell_type": "code",
   "execution_count": 4,
   "metadata": {},
   "outputs": [
    {
     "name": "stdout",
     "output_type": "stream",
     "text": [
      "1 \n",
      "1 2 \n"
     ]
    }
   ],
   "source": [
    "# Exp1_3_b - WAP to print the following pattern\n",
    "\n",
    "rows = int(input(\"Enter the number of rows: \"))\n",
    "for i in range(1, rows + 1):\n",
    "    for j in range(1, i + 1):\n",
    "        print(j, end=' ')\n",
    "    print('')"
   ]
  },
  {
   "cell_type": "code",
   "execution_count": 5,
   "metadata": {},
   "outputs": [
    {
     "name": "stdout",
     "output_type": "stream",
     "text": [
      "* \n",
      "* \n",
      "* \n"
     ]
    }
   ],
   "source": [
    "# Function to print a half pyramid pattern\n",
    "n = int(input(\"Enter no of rows: \"))\n",
    "for i in range(1, n + 1):\n",
    "        for j in range(1,n-1):\n",
    "            print(\"* \", end=\"\")\n",
    "        print(\"\")\n",
    "\n",
    "# Example: Print a half pyramid with 5 rows"
   ]
  },
  {
   "cell_type": "code",
   "execution_count": 6,
   "metadata": {},
   "outputs": [
    {
     "ename": "KeyboardInterrupt",
     "evalue": "",
     "output_type": "error",
     "traceback": [
      "\u001b[1;31m---------------------------------------------------------------------------\u001b[0m",
      "\u001b[1;31mKeyboardInterrupt\u001b[0m                         Traceback (most recent call last)",
      "Cell \u001b[1;32mIn[6], line 5\u001b[0m\n\u001b[0;32m      1\u001b[0m \u001b[38;5;66;03m# Exp1_4 WAP to demonstrate use of break,pass and continue in a while loop \u001b[39;00m\n\u001b[0;32m      4\u001b[0m \u001b[38;5;28;01mfor\u001b[39;00m i \u001b[38;5;129;01min\u001b[39;00m \u001b[38;5;28mrange\u001b[39m(\u001b[38;5;241m10\u001b[39m):\n\u001b[1;32m----> 5\u001b[0m     \u001b[38;5;28;01mwhile\u001b[39;00m(i\u001b[38;5;241m>\u001b[39m\u001b[38;5;241m0\u001b[39m):\n\u001b[0;32m      6\u001b[0m         \u001b[38;5;28;01mif\u001b[39;00m (i\u001b[38;5;241m==\u001b[39m\u001b[38;5;241m10\u001b[39m):\n\u001b[0;32m      7\u001b[0m             \u001b[38;5;28;01mcontinue\u001b[39;00m\n",
      "\u001b[1;31mKeyboardInterrupt\u001b[0m: "
     ]
    }
   ],
   "source": [
    "# Exp1_4 WAP to demonstrate use of break,pass and continue in a while loop \n",
    "\n",
    "\n",
    "for i in range(10):\n",
    "    while(i>0):\n",
    "        if (i==10):\n",
    "            continue\n",
    "        elif(i==5):\n",
    "            break\n",
    "        else:\n",
    "            pass\n",
    "print(i)"
   ]
  },
  {
   "cell_type": "code",
   "execution_count": 7,
   "metadata": {},
   "outputs": [
    {
     "name": "stdout",
     "output_type": "stream",
     "text": [
      "Total charge is:  100\n"
     ]
    }
   ],
   "source": [
    "# Exp1_5 - Write a program to calculate the electricity bill (accept number of units from user) according to the \n",
    "# following \n",
    "#        Unit                              Price  \n",
    "#        First 100 units                   no charge \n",
    "#        Next 100 units                    Rs 5 per unit  \n",
    "#        After 200 units                   Rs 10 per unit \n",
    "\n",
    "\n",
    "units = int(input(\"Enter the number of units: \"))\n",
    "final_bill_amt = 0\n",
    "\n",
    "\n",
    "if (units<100):\n",
    "    charge = 0\n",
    "elif(units<=200):\n",
    "    charge=5\n",
    "    final_bill_amt=(units-100)*charge\n",
    "else:\n",
    "    charge=10\n",
    "    final_bill_amt = 5*100+(units-200)*charge\n",
    "\n",
    "print(\"Total charge is: \",final_bill_amt)"
   ]
  },
  {
   "cell_type": "code",
   "execution_count": 8,
   "metadata": {},
   "outputs": [
    {
     "name": "stdout",
     "output_type": "stream",
     "text": [
      "Even numbers in the list:  4\n",
      "Odd numbers in the list:  5\n"
     ]
    }
   ],
   "source": [
    "# Exp1_6 - Write a Python program to count the number of even and odd numbers in a series of numbers \n",
    "# Sample numbers : numbers = (1, 2, 3, 4, 5, 6, 7, 8, 9)  \n",
    "# Expected Output : \n",
    "# Number of even numbers : 5 \n",
    "# Number of odd numbers : 4\n",
    "\n",
    "\n",
    "list1 = [1,2,3,4,5,6,7,8,9]\n",
    "\n",
    "even_count, odd_count = 0, 0\n",
    "\n",
    "# iterating each number in list\n",
    "for num in list1:\n",
    " \n",
    "    # checking condition\n",
    "    if num % 2 == 0:\n",
    "        even_count += 1\n",
    " \n",
    "    else:\n",
    "        odd_count += 1\n",
    " \n",
    "print(\"Even numbers in the list: \", even_count)\n",
    "print(\"Odd numbers in the list: \", odd_count)"
   ]
  },
  {
   "cell_type": "code",
   "execution_count": 9,
   "metadata": {},
   "outputs": [
    {
     "name": "stdout",
     "output_type": "stream",
     "text": [
      "1\n",
      "2\n",
      "Fizz\n",
      "4\n",
      "Buzz\n",
      "Fizz\n",
      "7\n",
      "8\n",
      "Fizz\n",
      "Buzz\n",
      "11\n",
      "Fizz\n",
      "13\n",
      "14\n",
      "FizzBuzz\n",
      "16\n",
      "17\n",
      "Fizz\n",
      "19\n",
      "Buzz\n",
      "Fizz\n",
      "22\n",
      "23\n",
      "Fizz\n",
      "Buzz\n",
      "26\n",
      "Fizz\n",
      "28\n",
      "29\n",
      "FizzBuzz\n",
      "31\n",
      "32\n",
      "Fizz\n",
      "34\n",
      "Buzz\n",
      "Fizz\n",
      "37\n",
      "38\n",
      "Fizz\n",
      "Buzz\n",
      "41\n",
      "Fizz\n",
      "43\n",
      "44\n",
      "FizzBuzz\n",
      "46\n",
      "47\n",
      "Fizz\n",
      "49\n",
      "Buzz\n"
     ]
    }
   ],
   "source": [
    "# Exp1_7 -  Write a Python program that iterates the integers from 1 to 50. For multiples of three print \"Fizz\" instead of \n",
    "# the number and for multiples of five print \"Buzz\". For numbers that are multiples of three and five, print \n",
    "# \"FizzBuzz\". \n",
    "# Sample Output : \n",
    "# fizzbuzz \n",
    "# 1 \n",
    "# 2 \n",
    "# fizz \n",
    "# 4 \n",
    "# buzz\n",
    "for i in range(1,51):\n",
    "    if(i%3==0 and i%5==0):\n",
    "        print(\"FizzBuzz\")\n",
    "    elif(i%5==0):\n",
    "        print(\"Buzz\")\n",
    "    elif(i%3==0):\n",
    "        print(\"Fizz\")\n",
    "    else:\n",
    "        print(i)"
   ]
  }
 ],
 "metadata": {
  "kernelspec": {
   "display_name": "base",
   "language": "python",
   "name": "python3"
  },
  "language_info": {
   "codemirror_mode": {
    "name": "ipython",
    "version": 3
   },
   "file_extension": ".py",
   "mimetype": "text/x-python",
   "name": "python",
   "nbconvert_exporter": "python",
   "pygments_lexer": "ipython3",
   "version": "3.12.4"
  }
 },
 "nbformat": 4,
 "nbformat_minor": 2
}
