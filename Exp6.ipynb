{
 "cells": [
  {
   "cell_type": "code",
   "execution_count": 1,
   "id": "39ab4fa9-f77b-4590-85fc-8e99da9d0bca",
   "metadata": {},
   "outputs": [],
   "source": [
    "# Exp6_1\n",
    "class vehicle():\n",
    "    pass"
   ]
  },
  {
   "cell_type": "code",
   "execution_count": 1,
   "id": "400952d5-8a1b-4d8a-8ec7-78b3d402d127",
   "metadata": {},
   "outputs": [
    {
     "name": "stdout",
     "output_type": "stream",
     "text": [
      "Max Speed: 180 km/h\n",
      "Mileage: 30000 km\n"
     ]
    }
   ],
   "source": [
    "# Exp6_2\n",
    "class Vehicle:\n",
    "    def __init__(self, max_speed, mileage):\n",
    "        self.max_speed = max_speed\n",
    "        self.mileage = mileage\n",
    "\n",
    "my_car = Vehicle(180, 30000)\n",
    "\n",
    "print(f\"Max Speed: {my_car.max_speed} km/h\")\n",
    "print(f\"Mileage: {my_car.mileage} km\")"
   ]
  },
  {
   "cell_type": "code",
   "execution_count": 3,
   "id": "66eb82f8-7526-4fc8-8c91-66f45f8348c7",
   "metadata": {},
   "outputs": [
    {
     "name": "stdout",
     "output_type": "stream",
     "text": [
      "Bus Name: School Bus\n",
      "Max Speed: 100 km/h\n",
      "Mileage: 50000 km\n",
      "Number of Seats: 50\n"
     ]
    }
   ],
   "source": [
    "# Exp6_3\n",
    "class Vehicle:\n",
    "    def __init__(self, name, max_speed, mileage):\n",
    "        self.name = name\n",
    "        self.max_speed = max_speed\n",
    "        self.mileage = mileage\n",
    "\n",
    "class Bus(Vehicle):\n",
    "    def __init__(self, name, max_speed, mileage, num_seats):\n",
    "        super().__init__(name, max_speed, mileage)\n",
    "        self.num_seats = num_seats\n",
    "\n",
    "my_bus = Bus(\"School Bus\", 100, 50000, 50)\n",
    "\n",
    "\n",
    "print(f\"Bus Name: {my_bus.name}\")\n",
    "print(f\"Max Speed: {my_bus.max_speed} km/h\")\n",
    "print(f\"Mileage: {my_bus.mileage} km\")\n",
    "print(f\"Number of Seats: {my_bus.num_seats}\")"
   ]
  },
  {
   "cell_type": "code",
   "execution_count": 5,
   "id": "920288c5-2dfa-4d4c-a7c6-c395fed3afd7",
   "metadata": {},
   "outputs": [
    {
     "name": "stdout",
     "output_type": "stream",
     "text": [
      "Vehicle Name: School Volvo\n",
      "Speed: 180\n",
      "Mileage: 12\n"
     ]
    }
   ],
   "source": [
    "# Exp6_4\n",
    "class Vehicle:\n",
    "    def __init__(self, name, max_speed, mileage):\n",
    "        self.name = name\n",
    "        self.max_speed = max_speed\n",
    "        self.mileage = mileage\n",
    "\n",
    "class Bus(Vehicle):\n",
    "    pass\n",
    "\n",
    "my_bus = Bus(\"School Volvo\", 180, 12)\n",
    "\n",
    "print(f\"Vehicle Name: {my_bus.name}\")\n",
    "print(f\"Speed: {my_bus.max_speed}\")\n",
    "print(f\"Mileage: {my_bus.mileage}\")\n"
   ]
  },
  {
   "cell_type": "code",
   "execution_count": 7,
   "id": "219d174c-1041-4ba3-94e0-96eb6af4a8d2",
   "metadata": {},
   "outputs": [
    {
     "name": "stdout",
     "output_type": "stream",
     "text": [
      "The seating capacity of a School Volvo is 50 passengers\n"
     ]
    }
   ],
   "source": [
    "# Exp6_5\n",
    "class Vehicle:\n",
    "    def __init__(self, name, max_speed, mileage):\n",
    "        self.name = name\n",
    "        self.max_speed = max_speed\n",
    "        self.mileage = mileage\n",
    "\n",
    "    def seating_capacity(self, capacity):\n",
    "        return f\"The seating capacity of a {self.name} is {capacity} passengers\"\n",
    "\n",
    "class Bus(Vehicle):\n",
    "    def __init__(self, name, max_speed, mileage):\n",
    "        super().__init__(name, max_speed, mileage)\n",
    "\n",
    "    def seating_capacity(self, capacity=50):\n",
    "        return super().seating_capacity(capacity)\n",
    "\n",
    "my_bus = Bus(\"School Volvo\", 180, 12)\n",
    "\n",
    "print(my_bus.seating_capacity())  "
   ]
  },
  {
   "cell_type": "code",
   "execution_count": 11,
   "id": "be0b2bb4-b44a-4f5d-9dd8-95348727da76",
   "metadata": {},
   "outputs": [
    {
     "name": "stdout",
     "output_type": "stream",
     "text": [
      "Total bus fare is:  5500.0\n"
     ]
    }
   ],
   "source": [
    "# Exp6_6\n",
    "class Vehicle:\n",
    "    def __init__(self, name, max_speed, mileage, seating_capacity):\n",
    "        self.name = name\n",
    "        self.max_speed = max_speed\n",
    "        self.mileage = mileage\n",
    "        self.seating_capacity = seating_capacity\n",
    "\n",
    "    def fare(self):\n",
    "        return self.seating_capacity * 100\n",
    "\n",
    "class Bus(Vehicle):\n",
    "    def __init__(self, name, max_speed, mileage, seating_capacity=50):\n",
    "        super().__init__(name, max_speed, mileage, seating_capacity)\n",
    "\n",
    "    def fare(self):\n",
    "        total_fare = super().fare()\n",
    "        maintenance_charge = total_fare * 0.1\n",
    "        return total_fare + maintenance_charge\n",
    "\n",
    "my_bus = Bus(\"School Volvo\", 180, 12)\n",
    "\n",
    "print(\"Total bus fare is: \",my_bus.fare())  "
   ]
  },
  {
   "cell_type": "code",
   "execution_count": 13,
   "id": "96d7dfc3-1f33-4881-bef9-ce2276a0a5a3",
   "metadata": {},
   "outputs": [
    {
     "name": "stdout",
     "output_type": "stream",
     "text": [
      "The object belongs to the Bus class.\n",
      "The object belongs to the Vehicle class.\n"
     ]
    }
   ],
   "source": [
    "# Exp6_7\n",
    "class Vehicle:\n",
    "    def __init__(self, name, max_speed, mileage, seating_capacity):\n",
    "        self.name = name\n",
    "        self.max_speed = max_speed\n",
    "        self.mileage = mileage\n",
    "        self.seating_capacity = seating_capacity\n",
    "\n",
    "class Bus(Vehicle):\n",
    "    def __init__(self, name, max_speed, mileage, seating_capacity=50):\n",
    "        super().__init__(name, max_speed, mileage, seating_capacity)\n",
    "\n",
    "my_bus = Bus(\"School Volvo\", 180, 12)\n",
    "\n",
    "if isinstance(my_bus, Bus):\n",
    "    print(\"The object belongs to the Bus class.\")\n",
    "if isinstance(my_bus, Vehicle):\n",
    "    print(\"The object belongs to the Vehicle class.\")\n"
   ]
  },
  {
   "cell_type": "code",
   "execution_count": 7,
   "id": "4a2335cb-2548-4f95-95a9-5321ed9a9245",
   "metadata": {},
   "outputs": [
    {
     "name": "stdout",
     "output_type": "stream",
     "text": [
      "The object belongs to the SchoolBus class.\n"
     ]
    }
   ],
   "source": [
    "# Exp6_8\n",
    "class Vehicle:\n",
    "    def __init__(self, name, max_speed, mileage, seating_capacity):\n",
    "        self.name = name\n",
    "        self.max_speed = max_speed\n",
    "        self.mileage = mileage\n",
    "        self.seating_capacity = seating_capacity\n",
    "\n",
    "class Bus(Vehicle):\n",
    "    def __init__(self, name, max_speed, mileage, seating_capacity=50):\n",
    "        super().__init__(name, max_speed, mileage, seating_capacity)\n",
    "\n",
    "class SchoolBus(Bus):\n",
    "    def __init__(self, name, max_speed, mileage, seating_capacity=50):\n",
    "        super().__init__(name, max_speed, mileage, seating_capacity)\n",
    "\n",
    "\n",
    "school_bus = SchoolBus(\"School Bus\", 180, 12)\n",
    "\n",
    "\n",
    "if isinstance(school_bus, SchoolBus):\n",
    "    print(\"The object belongs to the SchoolBus class.\")\n",
    "elif isinstance(school_bus, Bus):\n",
    "    print(\"The object belongs to the Bus class.\")\n",
    "else:\n",
    "    print(\"The object belongs to the Vehicle class.\")\n"
   ]
  },
  {
   "cell_type": "code",
   "execution_count": 17,
   "id": "d67fe116-0bcc-42ab-9d1d-9dfc7a7bf19b",
   "metadata": {},
   "outputs": [
    {
     "name": "stdout",
     "output_type": "stream",
     "text": [
      "SchoolBus is a subclass of Vehicle.\n"
     ]
    }
   ],
   "source": [
    "# Exp6_9\n",
    "class Vehicle:\n",
    "    def __init__(self, name, max_speed, mileage, seating_capacity):\n",
    "        self.name = name\n",
    "        self.max_speed = max_speed\n",
    "        self.mileage = mileage\n",
    "        self.seating_capacity = seating_capacity\n",
    "\n",
    "class Bus(Vehicle):\n",
    "    def __init__(self, name, max_speed, mileage, seating_capacity=50):\n",
    "        super().__init__(name, max_speed, mileage, seating_capacity)\n",
    "\n",
    "class SchoolBus(Bus):\n",
    "    def __init__(self, name, max_speed, mileage, seating_capacity=50):\n",
    "        super().__init__(name, max_speed, mileage, seating_capacity)\n",
    "\n",
    "if issubclass(SchoolBus, Vehicle):\n",
    "    print(\"SchoolBus is a subclass of Vehicle.\")\n",
    "else:\n",
    "    print(\"SchoolBus is not a subclass of Vehicle.\")\n"
   ]
  },
  {
   "cell_type": "code",
   "execution_count": 21,
   "id": "15aa23ed-1b40-4356-891c-05e9aa04873b",
   "metadata": {},
   "outputs": [
    {
     "name": "stdout",
     "output_type": "stream",
     "text": [
      "Total Bus fare is: 2000\n",
      "MiniBus price: $40000.00\n"
     ]
    }
   ],
   "source": [
    "# Exp6_10\n",
    "class Vehicle:\n",
    "    def __init__(self, name, mileage, capacity):\n",
    "        self.name = name\n",
    "        self.mileage = mileage\n",
    "        self.capacity = capacity\n",
    "\n",
    "    def fare(self):\n",
    "        return self.capacity * 100\n",
    "\n",
    "\n",
    "class Bus(Vehicle):\n",
    "    pass\n",
    "\n",
    "class MiniBus(Bus):\n",
    "    def __init__(self, name, mileage, capacity, price):\n",
    "        super().__init__(name, mileage, capacity)  \n",
    "        self.price = price\n",
    "\n",
    "    def print_price(self):\n",
    "        print(f\"MiniBus price: ${self.price:.2f}\")\n",
    "\n",
    "\n",
    "mini_bus = MiniBus(\"Mini Volvo\", 10, 20, 40000.0)\n",
    "\n",
    "print(\"Total Bus fare is:\", mini_bus.fare())  \n",
    "mini_bus.print_price()  "
   ]
  },
  {
   "cell_type": "code",
   "execution_count": 13,
   "id": "7bae20bd-9546-4567-ac2d-93790cfbed70",
   "metadata": {},
   "outputs": [
    {
     "name": "stdout",
     "output_type": "stream",
     "text": [
      "This car is a Hatchback\n"
     ]
    }
   ],
   "source": [
    "# Exp6_11\n",
    "class Vehicle:\n",
    "    def __init__(self,name,mileage,capacity):\n",
    "        self.name=name\n",
    "        self.mileage=mileage\n",
    "        self.capacity=capacity\n",
    "\n",
    "    def fare(self):\n",
    "        return self.capacity*100\n",
    "\n",
    "class Bus(Vehicle):\n",
    "    pass\n",
    "\n",
    "class Car(Vehicle):\n",
    "    def __init__(self,name,mileage,capacity,type):\n",
    "        super().__init__(name,mileage,capacity)\n",
    "        self.type=type\n",
    "\n",
    "    def print_type(self):\n",
    "        print(f\"This car is a {self.type}\")\n",
    "\n",
    "type_car = Car(\"Qualis\",30,7,\"Hatchback\")\n",
    "type_car.print_type()"
   ]
  },
  {
   "cell_type": "code",
   "execution_count": 47,
   "id": "c4f6f5a1-5d99-49cd-a7aa-2c347ec6ece6",
   "metadata": {},
   "outputs": [
    {
     "name": "stdout",
     "output_type": "stream",
     "text": [
      "It's a shape\n",
      "Area of Square is 400\n",
      "it's a circle\n",
      "314.0\n"
     ]
    }
   ],
   "source": [
    "# Exp6_12\n",
    "import math\n",
    "\n",
    "class Shape:\n",
    "    def __str__(self,a,b):\n",
    "       return \"It's a shape\"\n",
    "        \n",
    "    def fact(self):\n",
    "        return \"Shape has area and perimeter\"\n",
    "\n",
    "class Square(Shape):\n",
    "    def __str__(self):\n",
    "        return \"It's a shape\"\n",
    "        \n",
    "    def fact(self):\n",
    "        print(\"Square has 4 sides\")\n",
    "    def area(self,a):\n",
    "        return f\"Area of Square is {a**2}\"\n",
    "\n",
    "class Circle(Shape):\n",
    "    def __str__(self):\n",
    "       return \"it's a circle\"\n",
    "\n",
    "    def area(self,r):\n",
    "        return 3.14*math.pow(r,2)\n",
    "\n",
    "sq=Square()\n",
    "print(sq)\n",
    "print(sq.area(20))\n",
    "circ_1 = Circle()\n",
    "print(circ_1)\n",
    "print(circ_1.area(10))\n",
    "\n",
    "        \n"
   ]
  },
  {
   "cell_type": "code",
   "execution_count": 39,
   "id": "f9a32f22-472f-46ea-acbf-7c55b92630a4",
   "metadata": {},
   "outputs": [
    {
     "name": "stdout",
     "output_type": "stream",
     "text": [
      "Vehicle\n",
      "Max speed: 200\n",
      "8 gear\n"
     ]
    }
   ],
   "source": [
    "#Exp6_13\n",
    "class Vehicle:\n",
    "    def speed(self):\n",
    "        print(\"Max Speed: 150\")\n",
    "\n",
    "    def change_gear(self):\n",
    "        print(\"5 gear\")\n",
    "\n",
    "    def show(self):\n",
    "        print(\"Vehicle\")\n",
    "\n",
    "class Car(Vehicle):\n",
    "    def speed(self):\n",
    "        print(\"Max speed: 240\")\n",
    "\n",
    "    def change_gear(self):\n",
    "        print(\"6 gear\")\n",
    "\n",
    "class Truck(Vehicle):\n",
    "    def speed(self):\n",
    "        print(\"Max speed: 200\")\n",
    "\n",
    "    def change_gear(self):\n",
    "        print(\"8 gear\")\n",
    "\n",
    "truck=Truck()\n",
    "\n",
    "truck.show()\n",
    "truck.speed()\n",
    "truck.change_gear()\n"
   ]
  },
  {
   "cell_type": "code",
   "execution_count": 13,
   "id": "0560bbcd-641c-4691-b956-7196afea4b9b",
   "metadata": {},
   "outputs": [
    {
     "name": "stdout",
     "output_type": "stream",
     "text": [
      "Addition of 2 numbers: 5\n",
      "Addition of 3 numbers: 9\n"
     ]
    }
   ],
   "source": [
    "# Exp6_14\n",
    "class Calculator:\n",
    "    def add(self, *args):\n",
    "        if len(args) == 2:\n",
    "            return args[0] + args[1]\n",
    "        elif len(args) == 3:\n",
    "            return args[0] + args[1] + args[2]\n",
    "        else:\n",
    "            None\n",
    "\n",
    "calc = Calculator()\n",
    "\n",
    "result = calc.add(2, 3)\n",
    "print(\"Addition of 2 numbers:\", result)\n",
    "\n",
    "result = calc.add(2, 3, 4)\n",
    "print(\"Addition of 3 numbers:\", result)\n",
    "\n"
   ]
  },
  {
   "cell_type": "code",
   "execution_count": 37,
   "id": "a603277a-c535-47ae-8f72-69c5f5de62d7",
   "metadata": {},
   "outputs": [
    {
     "name": "stdout",
     "output_type": "stream",
     "text": [
      "Area of square: 25\n",
      "Area of rectangle: 20\n"
     ]
    }
   ],
   "source": [
    "# Exp6_15\n",
    "class Shape:\n",
    "    def area(self, *args):\n",
    "        if len(args) == 1:\n",
    "            side = args[0]\n",
    "            return side ** 2\n",
    "        elif len(args) == 2:\n",
    "            length, breadth = args\n",
    "            return length * breadth\n",
    "        else:\n",
    "            None\n",
    "\n",
    "shape = Shape()\n",
    "\n",
    "result = shape.area(5)\n",
    "print(\"Area of square:\", result)\n",
    "\n",
    "result = shape.area(4, 5)\n",
    "print(\"Area of rectangle:\", result)\n",
    "\n"
   ]
  },
  {
   "cell_type": "code",
   "execution_count": 19,
   "id": "ea29f55b-54ff-4328-b1e8-f596d839f53c",
   "metadata": {},
   "outputs": [
    {
     "name": "stdout",
     "output_type": "stream",
     "text": [
      "John Doe\n",
      "50000\n",
      "Jane Doe\n",
      "800\n"
     ]
    }
   ],
   "source": [
    "# Exp6_16\n",
    "from abc import ABC, abstractmethod\n",
    "\n",
    "class Employee(ABC):\n",
    "    def __init__(self, first_name, last_name):\n",
    "        self.first_name = first_name\n",
    "        self.last_name = last_name\n",
    "\n",
    "    @property\n",
    "    def full_name(self):\n",
    "        return f\"{self.first_name} {self.last_name}\"\n",
    "\n",
    "    @abstractmethod\n",
    "    def get_salary(self):\n",
    "        pass\n",
    "\n",
    "class FullTimeEmployee(Employee):\n",
    "    def __init__(self, first_name, last_name, salary):\n",
    "        super().__init__(first_name, last_name)\n",
    "        self.salary = salary\n",
    "\n",
    "    def get_salary(self):\n",
    "        return self.salary\n",
    "\n",
    "class HourlyEmployee(Employee):\n",
    "    def __init__(self, first_name, last_name, working_hours, rate):\n",
    "        super().__init__(first_name, last_name)\n",
    "        self.working_hours = working_hours\n",
    "        self.rate = rate\n",
    "\n",
    "    def get_salary(self):\n",
    "        return self.working_hours * self.rate\n",
    "\n",
    "full_time_employee = FullTimeEmployee(\"John\", \"Doe\", 50000)\n",
    "print(full_time_employee.full_name)  \n",
    "print(full_time_employee.get_salary())  \n",
    "\n",
    "hourly_employee = HourlyEmployee(\"Jane\", \"Doe\", 40, 20)\n",
    "print(hourly_employee.full_name)  \n",
    "print(hourly_employee.get_salary())  "
   ]
  },
  {
   "cell_type": "code",
   "execution_count": 39,
   "id": "e56f0e57-808e-4dfa-b002-1e35ff3a9a1d",
   "metadata": {},
   "outputs": [
    {
     "name": "stdout",
     "output_type": "stream",
     "text": [
      "Result: 5 5\n"
     ]
    }
   ],
   "source": [
    "# Exp6_17\n",
    "class Point:\n",
    "    def __init__(self, x, y):\n",
    "        self.x = self.y = y\n",
    "\n",
    "    def __add__(self, other):\n",
    "        return Point(self.x + other.x, self.y + other.y)\n",
    "\n",
    "p1 = Point(1, 2)\n",
    "p2 = Point(2, 3)\n",
    "\n",
    "result = p1 + p2\n",
    "\n",
    "print(\"Result:\", result.x, result.y)"
   ]
  },
  {
   "cell_type": "code",
   "execution_count": 41,
   "id": "b78699c5-ccf2-4532-bcfc-c908849c8893",
   "metadata": {},
   "outputs": [
    {
     "name": "stdin",
     "output_type": "stream",
     "text": [
      "Enter the first number:  12.89\n",
      "Enter the second number:  5.67\n"
     ]
    },
    {
     "name": "stdout",
     "output_type": "stream",
     "text": [
      "The result of the division is: 2.2733686067019403\n",
      "Division operation complete.\n"
     ]
    }
   ],
   "source": [
    "# Exp6_18\n",
    "def divide_numbers():\n",
    "    try:\n",
    "        num1 = float(input(\"Enter the first number: \"))\n",
    "        num2 = float(input(\"Enter the second number: \"))\n",
    "\n",
    "        result = num1 / num2\n",
    "\n",
    "        print(\"The result of the division is:\", result)\n",
    "\n",
    "    except ZeroDivisionError:\n",
    "        print(\"Error: Cannot divide by zero!\")\n",
    "\n",
    "    except ValueError:\n",
    "        print(\"Error: Invalid input. Please enter a number.\")\n",
    "\n",
    "    finally:\n",
    "        print(\"Division operation complete.\")\n",
    "\n",
    "divide_numbers()"
   ]
  },
  {
   "cell_type": "code",
   "execution_count": null,
   "id": "b3229167-b842-42df-a21d-62bc064eeb1a",
   "metadata": {},
   "outputs": [],
   "source": []
  }
 ],
 "metadata": {
  "kernelspec": {
   "display_name": "Python 3 (ipykernel)",
   "language": "python",
   "name": "python3"
  },
  "language_info": {
   "codemirror_mode": {
    "name": "ipython",
    "version": 3
   },
   "file_extension": ".py",
   "mimetype": "text/x-python",
   "name": "python",
   "nbconvert_exporter": "python",
   "pygments_lexer": "ipython3",
   "version": "3.12.4"
  }
 },
 "nbformat": 4,
 "nbformat_minor": 5
}
