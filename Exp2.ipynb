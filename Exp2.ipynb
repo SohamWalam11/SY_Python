{
 "cells": [
  {
   "cell_type": "code",
   "execution_count": 1,
   "metadata": {},
   "outputs": [
    {
     "name": "stdout",
     "output_type": "stream",
     "text": [
      "11\n"
     ]
    }
   ],
   "source": [
    "# Exp2_1 - Create a string variable s with the value \"Hello World\" and print its length.\n",
    "s =\"Hello world\"\n",
    "print(len(s))"
   ]
  },
  {
   "cell_type": "code",
   "execution_count": 2,
   "metadata": {},
   "outputs": [
    {
     "name": "stdout",
     "output_type": "stream",
     "text": [
      "python programming\n"
     ]
    }
   ],
   "source": [
    "#Exp2_2 - Convert the string \"Python Programming\" to lowercase and print it.\n",
    "s='Python Programming'\n",
    "p = s.lower()\n",
    "print(p)"
   ]
  },
  {
   "cell_type": "code",
   "execution_count": 3,
   "metadata": {},
   "outputs": [
    {
     "name": "stdout",
     "output_type": "stream",
     "text": [
      "Data Science\n"
     ]
    }
   ],
   "source": [
    "# Exp2_3 - Concatenate the strings \"Data\" and \"Science\" with a space in between and print the result.\n",
    "s= \"Data\"+' '+\"Science\"\n",
    "print(s)"
   ]
  },
  {
   "cell_type": "code",
   "execution_count": 4,
   "metadata": {},
   "outputs": [
    {
     "name": "stdout",
     "output_type": "stream",
     "text": [
      "Data Analysis\n"
     ]
    }
   ],
   "source": [
    "# Exp2_4 - Remove all leading and trailing whitespace from the string \" Data Analysis \" and print it.\n",
    "s=' Data Analysis '\n",
    "s_1 = s.strip()\n",
    "print(s_1)"
   ]
  },
  {
   "cell_type": "code",
   "execution_count": 5,
   "metadata": {},
   "outputs": [
    {
     "name": "stdout",
     "output_type": "stream",
     "text": [
      "Is a Palindrome\n"
     ]
    }
   ],
   "source": [
    "# Exp2_5 - Check if the string \"level\" is a palindrome (reads the same forwards and backwards) and print the result\n",
    "\n",
    "s = \"level\"\n",
    "if s == s[::-1]:\n",
    "    print(\"Is a Palindrome\")\n",
    "else:\n",
    "    print(\"Not a palindrome\")\n"
   ]
  },
  {
   "cell_type": "code",
   "execution_count": 6,
   "metadata": {},
   "outputs": [
    {
     "name": "stdout",
     "output_type": "stream",
     "text": [
      "['Soham', 'is', 'a', 'student', 'of', 'DS']\n",
      "is\n",
      "of\n",
      "DS\n"
     ]
    }
   ],
   "source": [
    "# Exp2_6 - WAP to print all even length words in a string\n",
    "n=\"Soham is a student of DS\"\n",
    "\n",
    "s=n.split(\" \")\n",
    "print(s) \n",
    "for i in s: \n",
    "   if len(i)%2==0: \n",
    "\t   print(i)\n"
   ]
  },
  {
   "cell_type": "code",
   "execution_count": 7,
   "metadata": {},
   "outputs": [
    {
     "name": "stdout",
     "output_type": "stream",
     "text": [
      "The count is:  5\n"
     ]
    }
   ],
   "source": [
    "# Exp2_7 - WAP to print number of cvc (consonant-vowel-consonant) pairs in each string\n",
    "\n",
    "s=\"SohamForSoham\"\n",
    "s1='aeiou'\n",
    "count=0\n",
    "n = len(s); \n",
    " \n",
    "for i in range(n - 1) :    \n",
    "    if (s[i] not in s1 and s[i + 1] in s1) : \n",
    "            count += 1\n",
    "print(\"The count is: \",count)"
   ]
  },
  {
   "cell_type": "code",
   "execution_count": 8,
   "metadata": {},
   "outputs": [
    {
     "name": "stdout",
     "output_type": "stream",
     "text": [
      "olleH\n"
     ]
    }
   ],
   "source": [
    "# Exp2_8 - Reverse the string ‘Hello’ only using string slicing\n",
    "Str_1 = 'Hello'\n",
    "print(Str_1[::-1])"
   ]
  },
  {
   "cell_type": "code",
   "execution_count": 9,
   "metadata": {},
   "outputs": [
    {
     "name": "stdout",
     "output_type": "stream",
     "text": [
      "Old String is:  India is theeee bessstt\n",
      "New String is:  India is the best\n"
     ]
    }
   ],
   "source": [
    "# Exp2_9 - WAP to remove more than 2 successive occurrences of the same alphabet in a sentence, example: “India is theeee besssst” must be made “India is the best”\n",
    "s='India is theeee bessstt'\n",
    "i=0\n",
    "j=0\n",
    "new_elem=''\n",
    "while(j<len(s)):\n",
    "    if(s[i]==s[j]):\n",
    "        j+=1\n",
    "    elif((s[j]!=s[i]) or (j==len(s)-1)):\n",
    "        new_elem+=s[i]\n",
    "        i=j\n",
    "        j+=1\n",
    "new_elem+=s[j-1]\n",
    "\n",
    "\n",
    "print(\"Old String is: \",s)\n",
    "print(\"New String is: \",new_elem)"
   ]
  },
  {
   "cell_type": "code",
   "execution_count": 10,
   "metadata": {},
   "outputs": [
    {
     "name": "stdout",
     "output_type": "stream",
     "text": [
      "Minimum no of rotations are:  1\n"
     ]
    }
   ],
   "source": [
    "str1 = 'sgeek'\n",
    "str2 = 'geeks'\n",
    "x = 0\n",
    "y = 0\n",
    "m = str1\n",
    "\t\n",
    "while True:\n",
    "\t\t\n",
    "\t\t# left rotating the string\n",
    "\t\tm = m[len(m)-1] + m[:len(m)-1] \n",
    "\t\t\n",
    "\t\t# checking if rotated and \n",
    "\t\t# actual string are equal.\n",
    "\t\tif(m == str2):\n",
    "\t\t\tx += 1\n",
    "\t\t\tbreak\n",
    "\t\t\t\n",
    "\t\telse:\n",
    "\t\t\tx += 1\n",
    "\t\t\tif x > len(str2) :\n",
    "\t\t\t\tbreak\n",
    "\n",
    "while True:\n",
    "\t\t\n",
    "\t\t# right rotating the string\n",
    "\t\tstr1 = str1[1:len(str1)]+str1[0] \n",
    "\t\t\n",
    "\t\t# checking if rotated and actual\n",
    "\t\t# string are equal.\n",
    "\t\tif(str1 == str2):\n",
    "\t\t\ty += 1\n",
    "\t\t\tbreak\n",
    "\t\t\t\n",
    "\t\telse:\n",
    "\t\t\ty += 1\n",
    "\t\t\tif y > len(str2):\n",
    "\t\t\t\tbreak\n",
    "\t\t\t\t\n",
    "if x < len(str2):\n",
    "\t\t\n",
    "\t\t# printing the minimum\n",
    "\t\t# number of rotations.\n",
    "\t\tprint(\"Minimum no of rotations are: \",min(x,y))\n",
    "\t\t\n"
   ]
  },
  {
   "cell_type": "code",
   "execution_count": 14,
   "metadata": {},
   "outputs": [
    {
     "name": "stdout",
     "output_type": "stream",
     "text": [
      "Without stripping output is:     There are several black holes in the universe   \n",
      "With stripping output is:  There are several black holes in the universe\n"
     ]
    }
   ],
   "source": [
    "# Exp2_11\n",
    "a ='    There are several black holes in the universe   '\n",
    "print(\"Without stripping output is: \"+a)\n",
    "print(\"With stripping output is: \",a.strip())"
   ]
  },
  {
   "cell_type": "code",
   "execution_count": 17,
   "metadata": {},
   "outputs": [
    {
     "name": "stdout",
     "output_type": "stream",
     "text": [
      "oham\n"
     ]
    }
   ],
   "source": [
    "# Exp2_12\n",
    "a = input(\"Enter a string: \")\n",
    "n_1 = int(input(\"Enter start index of substring: \"))\n",
    "n_2 = int(input(\"Enter end index of substring: \"))\n",
    "step_1 = int(input(\"Enter step size of substring: \"))\n",
    "\n",
    "if(n_1>n_2):\n",
    "    print('Wrong Input')\n",
    "elif(n_1,n_2):\n",
    "    print(a[n_1:n_2:step_1])\n",
    "else:\n",
    "    print(\"None\")\n",
    "\n"
   ]
  },
  {
   "cell_type": "code",
   "execution_count": 24,
   "metadata": {},
   "outputs": [
    {
     "name": "stdout",
     "output_type": "stream",
     "text": [
      "Count of number of words in a string is:  5\n"
     ]
    }
   ],
   "source": [
    "# Exp2_13\n",
    "def count_words(str):\n",
    "   return(len(str.strip().split(\" \"))) \n",
    "\n",
    "str=input(\"Enter a string: \")\n",
    "\n",
    "print(\"Count of number of words in a string is: \",count_words(str))\n"
   ]
  },
  {
   "cell_type": "code",
   "execution_count": 25,
   "metadata": {},
   "outputs": [
    {
     "name": "stdout",
     "output_type": "stream",
     "text": [
      "Split Words are:  ['hello', 'world', 'this', 'is', 'sohm']\n"
     ]
    }
   ],
   "source": [
    "# Exp2_14\n",
    "a = input(\"Enter a string: \")\n",
    "a_split = a.split()\n",
    "print(\"Split Words are: \",a_split)\n"
   ]
  },
  {
   "cell_type": "code",
   "execution_count": 28,
   "metadata": {},
   "outputs": [
    {
     "name": "stdout",
     "output_type": "stream",
     "text": [
      "Your name is Soham and your age is 17 and you reside in Mumbai\n"
     ]
    }
   ],
   "source": [
    "# Exp2_15\n",
    "name = input(\"Enter your name: \")\n",
    "age = int(input(\"Enter your age: \"))\n",
    "city = input(\"Enter your city name: \")\n",
    "\n",
    "str = \"Your name is {} and your age is {} and you reside in {}\" \n",
    "print(str.format(name,age,city))"
   ]
  },
  {
   "cell_type": "code",
   "execution_count": 29,
   "metadata": {},
   "outputs": [
    {
     "name": "stdout",
     "output_type": "stream",
     "text": [
      "{'S': 1, 'o': 4, 'h': 1, 'a': 2, 'm': 1, ' ': 4, 'i': 1, 's': 1, 'g': 1, 'd': 1, 'b': 1, 'y': 1}\n"
     ]
    }
   ],
   "source": [
    "# Exp2_16\n",
    "str_1 = input(\"Enter a string: \")\n",
    "elem_freq = {}\n",
    "\n",
    "for elem in str_1:\n",
    "  if elem in elem_freq:\n",
    "    elem_freq[elem] += 1\n",
    "  else:\n",
    "    elem_freq[elem] = 1\n",
    "\n",
    "print(elem_freq)\n"
   ]
  },
  {
   "cell_type": "code",
   "execution_count": null,
   "metadata": {},
   "outputs": [],
   "source": [
    "# Exp2_17\n",
    "str = input(\"Enter a string: \")\n",
    "str_1 = str.split()\n",
    "str_2 = str_1[::-1]\n",
    "sep='-'\n",
    "str_3 = sep.join(str_2)\n",
    "print(\"Splitted string is: \",str_1)\n",
    "print(\"Reversed string is: \",str_2)\n",
    "print(\"String joined by - is: \",str_3)"
   ]
  }
 ],
 "metadata": {
  "kernelspec": {
   "display_name": "Python 3",
   "language": "python",
   "name": "python3"
  },
  "language_info": {
   "codemirror_mode": {
    "name": "ipython",
    "version": 3
   },
   "file_extension": ".py",
   "mimetype": "text/x-python",
   "name": "python",
   "nbconvert_exporter": "python",
   "pygments_lexer": "ipython3",
   "version": "3.12.4"
  }
 },
 "nbformat": 4,
 "nbformat_minor": 2
}
