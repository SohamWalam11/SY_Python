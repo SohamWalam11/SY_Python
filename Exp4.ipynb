{
 "cells": [
  {
   "cell_type": "code",
   "execution_count": null,
   "metadata": {},
   "outputs": [],
   "source": [
    "# Exp 4_1\n",
    "x = int(input(\"Enter a number: \"))\n",
    "y = int(input(\"Enter second number: \"))\n",
    "def multiply(x,y):\n",
    "    mul = x*y\n",
    "    print(\"Multiplication is: \",mul)\n",
    "    \n",
    "multiply(x,y)"
   ]
  },
  {
   "cell_type": "code",
   "execution_count": null,
   "metadata": {},
   "outputs": [],
   "source": [
    "# Exp4_2\n",
    "num = int(input(\"Enter a number : \"))\n",
    "def is_even(num):\n",
    "    if(num%2==0):\n",
    "        print('True')\n",
    "    else:\n",
    "        print('False')\n",
    "        \n",
    "is_even(num)"
   ]
  },
  {
   "cell_type": "code",
   "execution_count": null,
   "metadata": {},
   "outputs": [],
   "source": [
    "# Exp4_3\n",
    "str1 = input(\"Enter string 1 :\")\n",
    "str2 = input(\"Enter string 2 :\")\n",
    "def concat_str(str1,str2):\n",
    "    result = str1 + str2\n",
    "    print(\"Concatenation of the string is: \",result)\n",
    "    \n",
    "concat_str(str1,str2)"
   ]
  },
  {
   "cell_type": "code",
   "execution_count": null,
   "metadata": {},
   "outputs": [],
   "source": [
    "# Exp4_4\n",
    "a = int(input(\"Enter first number: \"))\n",
    "b = int(input(\"Enter second number: \"))\n",
    "def max_of_two(a,b):\n",
    "    if(a>b):\n",
    "        print(str(a)+\" is greater than \"+str(b))\n",
    "    else:\n",
    "        print(str(b)+\" is greater than \"+str(a))\n",
    "\n",
    "max_of_two(a,b)"
   ]
  },
  {
   "cell_type": "code",
   "execution_count": null,
   "metadata": {},
   "outputs": [],
   "source": [
    "# Exp4_5\n",
    "def count_down(n):\n",
    "    for i in range(n,0,-1):\n",
    "            print(i,end=\"\\n\")\n",
    "            \n",
    "            \n",
    "n = int(input(\"Enter a number: \"))\n",
    "\n",
    "if(n <= 0):\n",
    "    print(\"Wrong Range input\")\n",
    "else:\n",
    "    count_down(n)"
   ]
  },
  {
   "cell_type": "code",
   "execution_count": null,
   "metadata": {},
   "outputs": [],
   "source": [
    "# Exp4_6\n",
    "lst=[1,2,3,4,5]\n",
    "\n",
    "def sum_of_list(lst):\n",
    "    sum=0\n",
    "    for i in range(0,len(lst)):\n",
    "        sum=sum+lst[i]\n",
    "    print(\"Sum of elements of array is: \",sum)\n",
    "\n",
    "sum_of_list(lst)"
   ]
  },
  {
   "cell_type": "code",
   "execution_count": null,
   "metadata": {},
   "outputs": [],
   "source": [
    "# Exp4_7\n",
    "def find_max(lst):\n",
    "    max_1 = lst[0]\n",
    "    for ele in lst:\n",
    "        if( ele > max_1):\n",
    "            max_1 = ele\n",
    "        return max_1\n",
    "\n",
    "list_1 = [2,3,4,5,6,7,8]\n",
    "res = find_max(list_1)\n",
    "print(\"Maximum element in list is: \",res)"
   ]
  },
  {
   "cell_type": "code",
   "execution_count": null,
   "metadata": {},
   "outputs": [],
   "source": [
    "# Exp4_8\n",
    "def reverse_list(lst):\n",
    "    print(lst[::-1])\n",
    "\n",
    "list = [1,2,3,4,5,6]\n",
    "end = reverse_list(list)"
   ]
  },
  {
   "cell_type": "code",
   "execution_count": null,
   "metadata": {},
   "outputs": [],
   "source": [
    "#Exp4_9\n",
    "def string_length(s):\n",
    "    length = len(s)\n",
    "    return length\n",
    "\n",
    "s = input('Enter a string: ')\n",
    "\n",
    "if (s==\"\"):\n",
    "    print(\"String is empty\")\n",
    "else:\n",
    "    print(\"Length of string is: \",string_length(s))\n",
    "\n"
   ]
  },
  {
   "cell_type": "code",
   "execution_count": null,
   "metadata": {},
   "outputs": [],
   "source": [
    "# Exp4_10\n",
    "def power(x,y):\n",
    "    val = x**y\n",
    "    print(\"Value of \"+str(x)+\" raised to \"+str(y)+\" is: \",val)\n",
    "    \n",
    "x = int(input(\"Enter a base number: \"))\n",
    "y = int(input(\"Enter a exponent number: \"))\n",
    "\n",
    "power(x,y)"
   ]
  },
  {
   "cell_type": "code",
   "execution_count": null,
   "metadata": {},
   "outputs": [],
   "source": [
    "# Exp4_11\n",
    "n = int(input(\"Enter the  number of rows: \"))\n",
    "j=0\n",
    "def print_pattern(n):\n",
    "    for i in range(1, n + 1):\n",
    "        for j in range(n - i):\n",
    "            print(\" \", end=\"\")\n",
    "        for k in range(1, 2*i):\n",
    "            print(\"*\", end=\"\")\n",
    "        print()\n",
    "\n",
    "print_pattern(n)"
   ]
  },
  {
   "cell_type": "code",
   "execution_count": null,
   "metadata": {},
   "outputs": [],
   "source": [
    "#Exp4_12\n",
    "def recur_factorial(n):\n",
    "   if n == 1:\n",
    "       return n\n",
    "   else:\n",
    "       return n*recur_factorial(n-1)\n",
    "\n",
    "num = int(input(\"Enter a number you want factorial of: \"))\n",
    "num_1 = str(num)+'!'\n",
    "\n",
    "# check if the number is negative\n",
    "if num < 0:\n",
    "   print(\"Sorry, factorial does not exist for negative numbers\")\n",
    "elif num == 0:\n",
    "   print(\"The factorial of 0 is 1\")\n",
    "else:\n",
    "   print(\"The value of\", num_1,\"is\", recur_factorial(num))"
   ]
  },
  {
   "cell_type": "code",
   "execution_count": null,
   "metadata": {},
   "outputs": [],
   "source": []
  },
  {
   "cell_type": "code",
   "execution_count": null,
   "metadata": {},
   "outputs": [],
   "source": [
    "# Exp4_14\n",
    "list_1 = [1,3,5,7,9,11,13,15,17,18,19,21]\n",
    "list_2 = filter(lambda x:x%9==0,list_1)\n",
    "print(list(list_2))"
   ]
  },
  {
   "cell_type": "code",
   "execution_count": null,
   "metadata": {},
   "outputs": [],
   "source": [
    "# Exp4_15\n",
    "subject_marks = [('English', 88), ('Science', 90), ('Maths', 97), ('Social sciences', 82)]\n",
    "\n",
    "\n",
    "print(\"Original list of tuples:\")\n",
    "print(subject_marks)\n",
    "\n",
    "subject_marks.sort(key=lambda x: x[1])\n",
    "\n",
    "print(\"\\nSorting the List of Tuples:\")\n",
    "print(subject_marks) "
   ]
  },
  {
   "cell_type": "code",
   "execution_count": null,
   "metadata": {},
   "outputs": [],
   "source": [
    "# Exp4_16\n",
    "arr_1 = [1,2,3,4,5,6,7,8,9,10]\n",
    "arr_2 = [1,2,4,8,9]\n",
    "output = filter(lambda x,y:x.intersection(y),arr_1,arr_2)\n",
    "print(list(output))"
   ]
  },
  {
   "cell_type": "code",
   "execution_count": null,
   "metadata": {},
   "outputs": [
    {
     "ename": "",
     "evalue": "",
     "output_type": "error",
     "traceback": [
      "\u001b[1;31mRunning cells with 'Python 3.11.9' requires the ipykernel package.\n",
      "\u001b[1;31mRun the following command to install 'ipykernel' into the Python environment. \n",
      "\u001b[1;31mCommand: '\"c:/Users/Soham Kishor Walam/AppData/Local/Microsoft/WindowsApps/python3.11.exe\" -m pip install ipykernel -U --user --force-reinstall'"
     ]
    }
   ],
   "source": [
    "# Exp4_17\n",
    "a = [1,2,3]\n",
    "b = [4,5,6]\n",
    "list_1 = map(lambda x,y:x+y,a,b)\n",
    "print(list(list_1))"
   ]
  },
  {
   "cell_type": "code",
   "execution_count": null,
   "metadata": {},
   "outputs": [],
   "source": [
    "# Exp4_18\n",
    "list1 = [1,2,3,4,5,6,7,8,9,10]\n",
    "list2=[2,4,6,8]\n",
    "print(\"Original list 1 is: \",list1)\n",
    "print(\"Original list 2 is: \",list2)\n",
    "res = filter(lambda i:i not in list2,list1)\n",
    "print(\"after removing: \",list(res))"
   ]
  },
  {
   "cell_type": "code",
   "execution_count": null,
   "metadata": {},
   "outputs": [],
   "source": [
    "# Exp 4_19_a\n",
    "print(\"Enter total marks of each student out of 500: \")\n",
    "marks_1 = int(input(\"Enter Total marks of student 1: \"))\n",
    "marks_2 = int(input(\"Enter Total marks of student 2: \"))\n",
    "marks_3 = int(input(\"Enter Total marks of student 3: \"))\n",
    "marks_4 = int(input(\"Enter Total marks of student 4: \"))\n",
    "marks_5 = int(input(\"Enter Total marks of student 5: \"))\n",
    "\n",
    "peren_1 = (marks_1/500)*100\n",
    "peren_2 = (marks_2/500)*100\n",
    "peren_3 = (marks_3/500)*100\n",
    "peren_4 = (marks_4/500)*100\n",
    "peren_5 = (marks_5/500)*100\n",
    "\n",
    "list_1 = [peren_1,peren_2,peren_3,peren_4,peren_5]\n",
    "print(\"Total list: \",list_1)\n",
    "\n",
    "res = sorted(list_1, key=lambda x:float(x),reverse=True)\n",
    "print(\"Sorted list is: \",res)\n",
    "print(\"Last 3 elements of the list is: \",res[:3])"
   ]
  },
  {
   "cell_type": "code",
   "execution_count": null,
   "metadata": {},
   "outputs": [],
   "source": [
    "# Exp 4_19_b\n",
    "print(*map(lambda i: 'Fizz'*(not i%3)+'Buzz'*(not i%5) or i,range(1,21)),sep='\\n')"
   ]
  },
  {
   "cell_type": "code",
   "execution_count": null,
   "metadata": {},
   "outputs": [],
   "source": [
    "# Exp4_19_c\n",
    "list = []\n",
    "n = int(input(\"Enter number of elements: \"))\n",
    "for i in range(n):\n",
    "    x = int(input(\"Enter the numbers: \"))\n",
    "    list.append(x)\n",
    "    list_1 = sum(list)\n",
    "\n",
    "print(\"List is: \",list)\n",
    "print(\"sum of elements is: \",list_1)\n",
    "print(\"Average of elements is: \",(list_1/n))"
   ]
  },
  {
   "cell_type": "code",
   "execution_count": null,
   "metadata": {},
   "outputs": [],
   "source": [
    "# Exp4_20\n",
    "def count_occurrences(nums):\n",
    "    result = dict(map(lambda el: (el, list(nums).count(el)), nums))\n",
    "    return result\n",
    "\n",
    "nums = [3, 4, 5, 8, 0, 3, 8, 5, 0, 3, 1, 5, 2, 3, 4, 2]\n",
    "\n",
    "print(\"Original list:\")\n",
    "print(nums)\n",
    "\n",
    "print(\"\\nCount the occurrences of the items in the said list:\")\n",
    "print(count_occurrences(nums)) "
   ]
  }
 ],
 "metadata": {
  "kernelspec": {
   "display_name": "Python 3",
   "language": "python",
   "name": "python3"
  },
  "language_info": {
   "name": "python",
   "version": "3.11.9"
  }
 },
 "nbformat": 4,
 "nbformat_minor": 2
}
