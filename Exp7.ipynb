{
 "cells": [
  {
   "cell_type": "code",
   "execution_count": 7,
   "id": "46a19abd-b9ec-414f-bacb-f20ea6a5f05d",
   "metadata": {},
   "outputs": [
    {
     "name": "stdout",
     "output_type": "stream",
     "text": [
      "[[ 8  6  8]\n",
      " [ 9  2  4]\n",
      " [10  9  6]]\n",
      "\n",
      " Sum of Matrix is:  62\n"
     ]
    }
   ],
   "source": [
    "# exp7_1\n",
    "import numpy as np\n",
    "mat = np.random.randint(1,11,size=(3,3))\n",
    "print(mat)\n",
    "add=np.sum(mat)\n",
    "print(\"\\n Sum of Matrix is: \",add)\n"
   ]
  },
  {
   "cell_type": "code",
   "execution_count": 5,
   "id": "9b97c6a4-621a-4814-b701-1ab7a8c34fb3",
   "metadata": {},
   "outputs": [
    {
     "name": "stdout",
     "output_type": "stream",
     "text": [
      "[[2 3 2]\n",
      " [7 2 1]\n",
      " [8 8 5]]\n",
      "\n",
      "Average of a Matrix is:  4.222222222222222\n"
     ]
    }
   ],
   "source": [
    "# exp7_2\n",
    "import numpy as np\n",
    "mat_1 = np.random.randint(1,11,size=(3,3))\n",
    "print(mat_1)\n",
    "avg=np.average(mat_1)\n",
    "print(\"\\nAverage of a Matrix is: \",avg)"
   ]
  },
  {
   "cell_type": "code",
   "execution_count": 11,
   "id": "60196431-b66a-49ce-b546-2aaebd1ec91a",
   "metadata": {},
   "outputs": [
    {
     "name": "stdout",
     "output_type": "stream",
     "text": [
      "[[1 8 5]\n",
      " [9 2 1]]\n",
      "\n",
      "Sum of First Row of Matrix is:  12\n"
     ]
    }
   ],
   "source": [
    "# exp7_3\n",
    "import numpy as np\n",
    "mat_1 = np.random.randint(1,11,size=(2,3))\n",
    "print(mat_1)\n",
    "add=np.sum(mat_1,axis=1)[1]\n",
    "print(\"\\nSum of First Row of Matrix is: \",add)\n"
   ]
  },
  {
   "cell_type": "code",
   "execution_count": 13,
   "id": "eb29992f-32bd-4635-b046-1da9a95161fd",
   "metadata": {},
   "outputs": [
    {
     "name": "stdout",
     "output_type": "stream",
     "text": [
      "[[10  6  1  1  4]\n",
      " [ 8  3  8  8  8]\n",
      " [10  8  7  3  7]\n",
      " [ 3 10  2 10  9]\n",
      " [ 1  2  1  2  4]]\n",
      "\n",
      "Maximum values in each column is:  [10 10  8 10  9]\n"
     ]
    }
   ],
   "source": [
    "# exp7_4\n",
    "import numpy as np\n",
    "mat_1 = np.random.randint(1,11,size=(5,5))\n",
    "print(mat_1)\n",
    "max_1 = mat_1.max(axis=0)\n",
    "print(\"\\nMaximum values in each column is: \",max_1)"
   ]
  },
  {
   "cell_type": "code",
   "execution_count": 19,
   "id": "3c4f8c55-ae64-4d1a-baaf-58fae93de741",
   "metadata": {},
   "outputs": [
    {
     "name": "stdout",
     "output_type": "stream",
     "text": [
      "[[10  6  8  6]\n",
      " [ 7  8 10  1]\n",
      " [ 7  4 10  3]\n",
      " [ 3 10  4 10]]\n",
      "\n",
      "Sum of Diagonal elements is:  38\n"
     ]
    }
   ],
   "source": [
    "# exp7_5\n",
    "import numpy as np\n",
    "max_1 = np.random.randint(1,11,size=(4,4))\n",
    "print(max_1)\n",
    "sum=0\n",
    "for i in range(0,4):\n",
    "    sum+=max_1[i][i]\n",
    "\n",
    "print(\"\\nSum of Diagonal elements is: \",sum)"
   ]
  },
  {
   "cell_type": "code",
   "execution_count": 25,
   "id": "b2cb7784-8205-443d-88f3-23c94d17cb32",
   "metadata": {},
   "outputs": [
    {
     "name": "stdout",
     "output_type": "stream",
     "text": [
      "[[ 6  3  7  7  3]\n",
      " [10  3  3  4  1]\n",
      " [ 4  5  9  8  2]\n",
      " [10  1  8  8  2]\n",
      " [ 9  6  8  6  5]]\n",
      "\n",
      "Minimum values in complete columns is:  1\n"
     ]
    }
   ],
   "source": [
    "# exp7_6\n",
    "import numpy as np\n",
    "matx_1 = np.random.randint(1,11,size=(5,5))\n",
    "print(matx_1)\n",
    "max_1 = matx_1.min()\n",
    "print(\"\\nMinimum values in complete columns is: \",max_1)\n"
   ]
  },
  {
   "cell_type": "code",
   "execution_count": 29,
   "id": "809ba3a4-8d34-4aeb-8c5c-4037653abd1e",
   "metadata": {},
   "outputs": [
    {
     "name": "stdout",
     "output_type": "stream",
     "text": [
      "[[12  1 14  5 14]\n",
      " [ 4 13  5  1  4]\n",
      " [15  8  3 15 11]\n",
      " [20 19 20 13  8]\n",
      " [ 7 17 13 20  5]]\n",
      "\n",
      "Sum of Elements greater than 10 is:  141\n"
     ]
    }
   ],
   "source": [
    "# exp7_7\n",
    "import numpy as np\n",
    "matx_1 = np.random.randint(1,21,size=(5,5))\n",
    "print(matx_1)\n",
    "sum=0\n",
    "for i in range(0,4):\n",
    "    for j in range(0,4):\n",
    "        if matx_1[i][j]>10:\n",
    "            sum+=matx_1[i][j]\n",
    "\n",
    "print(\"\\nSum of Elements greater than 10 is: \",sum)"
   ]
  },
  {
   "cell_type": "code",
   "execution_count": 31,
   "id": "efda5bdc-25bb-40b5-a79a-e0a4a0a89c11",
   "metadata": {},
   "outputs": [
    {
     "name": "stdout",
     "output_type": "stream",
     "text": [
      "[[ 3  4  2  9  1]\n",
      " [ 7  5  7  9  1]\n",
      " [ 4  6  8 10  7]\n",
      " [ 9  6  4  2  7]\n",
      " [ 6  7  5  1  1]]\n",
      "\n",
      "Mean of Maximum values in each column is:  8.8\n"
     ]
    }
   ],
   "source": [
    "# exp7_8\n",
    "import numpy as np\n",
    "mat_1 = np.random.randint(1,11,size=(5,5))\n",
    "print(mat_1)\n",
    "max_1 = mat_1.max(axis=1)\n",
    "mean_1 = max_1.mean()\n",
    "print(\"\\nMean of Maximum values in each row is: \",mean_1)"
   ]
  },
  {
   "cell_type": "code",
   "execution_count": 35,
   "id": "70a91c05-7288-4598-961c-4e23defa4554",
   "metadata": {},
   "outputs": [
    {
     "name": "stdout",
     "output_type": "stream",
     "text": [
      "[[9 2 2]\n",
      " [9 4 3]\n",
      " [3 2 9]]\n",
      "\n",
      "Difference between sum of first row and last row is:  -1\n"
     ]
    }
   ],
   "source": [
    "# exp7_9\n",
    "import numpy as np\n",
    "mat_1 = np.random.randint(1,11,size=(3,3))\n",
    "print(mat_1)\n",
    "add_1 =np.sum(mat_1,axis=1)[0]\n",
    "add_2=np.sum(mat_1,axis=1)[2]\n",
    "diff = add_1 - add_2\n",
    "print(\"\\nDifference between sum of first row and last row is: \",diff) "
   ]
  },
  {
   "cell_type": "code",
   "execution_count": 53,
   "id": "3ff1e94b-210e-4d61-a18c-f61fd632015e",
   "metadata": {},
   "outputs": [
    {
     "name": "stdout",
     "output_type": "stream",
     "text": [
      "[[9 1 2 4 6 5]\n",
      " [6 7 3 6 9 2]\n",
      " [7 2 4 2 5 7]\n",
      " [8 1 2 1 1 4]\n",
      " [4 5 1 6 2 9]\n",
      " [9 8 3 3 5 8]]\n",
      "\n",
      "median is:  4.5\n",
      "\n",
      " [[9 0 0 0 6 5]\n",
      " [6 7 0 6 9 0]\n",
      " [7 0 0 0 5 7]\n",
      " [8 0 0 0 0 0]\n",
      " [0 5 0 6 0 9]\n",
      " [9 8 0 0 5 8]]\n"
     ]
    }
   ],
   "source": [
    "# exp7_10\n",
    "import numpy as np\n",
    "mat_1 = np.random.randint(1,11,size=(6,6))\n",
    "print(mat_1)\n",
    "med_1 = np.median(mat_1)\n",
    "print(\"\\nmedian is: \",med_1)\n",
    "\n",
    "for i in range(0,6):\n",
    "    for j in range(0,6):\n",
    "        if mat_1[i][j]<med_1:\n",
    "            mat_1[i][j]=0\n",
    "        else:\n",
    "            mat_1[i][j]=mat_1[i][j]\n",
    "\n",
    "print(\"\\n\",mat_1)"
   ]
  },
  {
   "cell_type": "code",
   "execution_count": 61,
   "id": "e40fc465-65b3-4d0e-bc6b-c49126a39464",
   "metadata": {},
   "outputs": [
    {
     "name": "stdout",
     "output_type": "stream",
     "text": [
      "[[8 2 4 6]\n",
      " [0 9 8 3]\n",
      " [0 0 5 8]\n",
      " [0 0 0 6]]\n",
      "\n",
      "Sum of upper triangular matrix is:  59\n"
     ]
    }
   ],
   "source": [
    "# exp7_11\n",
    "import numpy as np\n",
    "up_tri_mat = np.triu(np.random.randint(1, 10, size=(4, 4)))\n",
    "print(up_tri_mat)\n",
    "sum_1 = np.sum(up_tri_mat)\n",
    "print(\"\\nSum of upper triangular matrix is: \",sum_1)"
   ]
  },
  {
   "cell_type": "code",
   "execution_count": 63,
   "id": "6b84c2db-eb11-45f9-841e-2d538dc67f02",
   "metadata": {},
   "outputs": [
    {
     "name": "stdout",
     "output_type": "stream",
     "text": [
      "[[ 5  6  3  5]\n",
      " [ 3  3 10  5]\n",
      " [ 5  9  8  1]]\n",
      "\n",
      "standard deviation of third column is:  2.943920288775949\n"
     ]
    }
   ],
   "source": [
    "# exp7_12\n",
    "import numpy as np\n",
    "gen = np.random.randint(1,11,size=(3,4))\n",
    "print(gen)\n",
    "std_dev = gen.std(axis=0)[2]\n",
    "print(\"\\nstandard deviation of third column is: \",std_dev)"
   ]
  },
  {
   "cell_type": "code",
   "execution_count": null,
   "id": "7fc24d80-f034-43db-bdb6-dbd649659d1e",
   "metadata": {},
   "outputs": [],
   "source": []
  }
 ],
 "metadata": {
  "kernelspec": {
   "display_name": "Python 3 (ipykernel)",
   "language": "python",
   "name": "python3"
  },
  "language_info": {
   "codemirror_mode": {
    "name": "ipython",
    "version": 3
   },
   "file_extension": ".py",
   "mimetype": "text/x-python",
   "name": "python",
   "nbconvert_exporter": "python",
   "pygments_lexer": "ipython3",
   "version": "3.12.4"
  }
 },
 "nbformat": 4,
 "nbformat_minor": 5
}
